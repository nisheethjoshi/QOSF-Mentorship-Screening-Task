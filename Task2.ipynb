{
 "cells": [
  {
   "cell_type": "markdown",
   "metadata": {},
   "source": [
    "# Task 2\n",
    "## Question\n",
    "\n",
    "Implement a circuit that returns |01⟩\n",
    "and |10⟩\n",
    "\n",
    "with equal probability.\n",
    "\n",
    "Requirements :\n",
    "\n",
    "-The circuit should consist only of CNOTs, RXs and RYs.\n",
    "\n",
    "-Start from all parameters in parametric gates being equal to 0 or randomly chosen.\n",
    "\n",
    "-You should find the right set of parameters using gradient descent (you might use more advanced optimization methods if you like).\n",
    "\n",
    "-Simulations must be done with sampling - i.e. a limited number of measurements per iteration and noise.\n",
    "\n",
    "Compare the results for different numbers of measurements: 1, 10, 100, 1000.\n",
    "## Bonus Question:\n",
    "\n",
    "How to make sure you produce state |01⟩\n",
    "+ |10⟩ and not |01⟩ - |10⟩ ?"
   ]
  },
  {
   "cell_type": "markdown",
   "metadata": {},
   "source": [
    "## Solution\n",
    "\n",
    "#### 1. Import the required libraries"
   ]
  },
  {
   "cell_type": "code",
   "execution_count": 1,
   "metadata": {},
   "outputs": [],
   "source": [
    "import pennylane as qml\n",
    "from pennylane import numpy as np\n",
    "import matplotlib.pyplot as plt\n",
    "from qiskit import IBMQ\n",
    "from qiskit.providers.aer.noise.device import basic_device_noise_model"
   ]
  },
  {
   "cell_type": "markdown",
   "metadata": {},
   "source": [
    "#### 2. Use the IBMQ Device and noisy model"
   ]
  },
  {
   "cell_type": "code",
   "execution_count": 2,
   "metadata": {},
   "outputs": [
    {
     "name": "stderr",
     "output_type": "stream",
     "text": [
      "/usr/local/lib/python3.8/dist-packages/qiskit/providers/ibmq/ibmqfactory.py:192: UserWarning: Timestamps in IBMQ backend properties, jobs, and job results are all now in local time instead of UTC.\n",
      "  warnings.warn('Timestamps in IBMQ backend properties, jobs, and job results '\n",
      "/usr/local/lib/python3.8/dist-packages/qiskit/providers/aer/noise/device/basic_device_model.py:111: DeprecationWarning: This function is been deprecated and moved to a method of the`NoiseModel` class. For equivalent functionality use `NoiseModel.from_backend(properties, **kwargs).\n",
      "  warnings.warn(\n"
     ]
    }
   ],
   "source": [
    "IBMQ.load_account()\n",
    "provider = IBMQ.get_provider(group='open')\n",
    "ibmq_16_melbourne = provider.get_backend('ibmq_16_melbourne')\n",
    "device_properties = ibmq_16_melbourne.properties()\n",
    "\n",
    "noise_model = basic_device_noise_model(device_properties)"
   ]
  },
  {
   "cell_type": "markdown",
   "metadata": {},
   "source": [
    "#### 3. Create a device and circuit required gates"
   ]
  },
  {
   "cell_type": "code",
   "execution_count": 3,
   "metadata": {},
   "outputs": [],
   "source": [
    "dev = qml.device('qiskit.aer', wires=2, noise_model=noise_model, shots = 1000, analytic=False)"
   ]
  },
  {
   "cell_type": "code",
   "execution_count": 4,
   "metadata": {},
   "outputs": [
    {
     "data": {
      "text/plain": [
       "array([0.067, 0.478, 0.443, 0.012])"
      ]
     },
     "execution_count": 4,
     "metadata": {},
     "output_type": "execute_result"
    }
   ],
   "source": [
    "@qml.qnode(dev)\n",
    "def custom():\n",
    "    \n",
    "    qml.Hadamard(wires=0)\n",
    "    \n",
    "    qml.PauliX(wires=1)\n",
    "    \n",
    "    qml.CNOT(wires=[0, 1])\n",
    "    \n",
    "    #Return probablity of states for '00', '01', '10', '11'\n",
    "    return qml.probs(wires=[0,1]) \n",
    "\n",
    "custom()"
   ]
  },
  {
   "cell_type": "markdown",
   "metadata": {},
   "source": [
    "#### 4. Create the parametierized circuit"
   ]
  },
  {
   "cell_type": "code",
   "execution_count": 5,
   "metadata": {},
   "outputs": [],
   "source": [
    "def circuit(param):\n",
    "    qml.RY(param[0], wires=0)\n",
    "    \n",
    "    qml.RY(param[1], wires=1)\n",
    "    \n",
    "    qml.CNOT(wires=[0, 1])"
   ]
  },
  {
   "cell_type": "markdown",
   "metadata": {},
   "source": [
    "#### 5. Initialize the circuit"
   ]
  },
  {
   "cell_type": "code",
   "execution_count": 6,
   "metadata": {},
   "outputs": [],
   "source": [
    "dev1 = qml.device(\"qiskit.aer\", wires=2, shots=1000, noise_model = noise_model, analytic=False)\n",
    "\n",
    "@qml.qnode(dev1)\n",
    "def bell_state(param):\n",
    "    \n",
    "    circuit(param)\n",
    "    \n",
    "    return qml.probs(wires=[0,1])\n"
   ]
  },
  {
   "cell_type": "markdown",
   "metadata": {},
   "source": [
    "#### 6. Create the cost function"
   ]
  },
  {
   "cell_type": "code",
   "execution_count": 7,
   "metadata": {},
   "outputs": [],
   "source": [
    "def cost(x):           #define cost function for noisy simulation\n",
    "    prob_00, prob_01, prob_10, prob_11 = bell_state(x)\n",
    "    return ((prob_00-0)**2 + (prob_01-0.5)**2 + (prob_10-0.5)**2 + (prob_11-0)**2)"
   ]
  },
  {
   "cell_type": "markdown",
   "metadata": {},
   "source": [
    "#### 7. Find the parameters by the Gradient Descent Optimizer and minimize the cost."
   ]
  },
  {
   "cell_type": "code",
   "execution_count": 10,
   "metadata": {},
   "outputs": [
    {
     "name": "stdout",
     "output_type": "stream",
     "text": [
      "--------------------------------\n",
      "\n",
      "For 1 shots\n",
      "\n",
      "The cost of 1 measurement sampling is 0.8368420000000001\n",
      "\n",
      "The parameters are [-1.12744038 -0.64321251]\n",
      "\n",
      "The cost of 1 measurement sampling is 0.030953999999999992\n",
      "\n",
      "The parameters are [-1.60737858 -2.48494431]\n",
      "\n",
      "The cost of 1 measurement sampling is 0.012254\n",
      "\n",
      "The parameters are [-1.58087118 -2.81315931]\n",
      "\n",
      "The cost of 1 measurement sampling is 0.012577999999999999\n",
      "\n",
      "The parameters are [-1.58344518 -2.94103731]\n",
      "\n",
      "The cost of 1 measurement sampling is 0.010945999999999997\n",
      "\n",
      "The parameters are [-1.58656818 -3.01380771]\n",
      "\n",
      "The cost of 1 measurement sampling is 0.011701999999999997\n",
      "\n",
      "The parameters are [-1.56286098 -3.05971611]\n",
      "\n",
      "The cost of 1 measurement sampling is 0.009774000000000001\n",
      "\n",
      "The parameters are [-1.58682438 -3.08962011]\n",
      "\n",
      "The cost of 1 measurement sampling is 0.008360000000000001\n",
      "\n",
      "The parameters are [-1.57730118 -3.10905891]\n",
      "\n",
      "The cost of 1 measurement sampling is 0.013942\n",
      "\n",
      "The parameters are [-1.59318378 -3.12400971]\n",
      "\n",
      "The cost of 1 measurement sampling is 0.006229999999999999\n",
      "\n",
      "The parameters are [-1.60494978 -3.13134291]\n",
      "\n",
      "Final probability of states is as follows: \n",
      "\n",
      "\n",
      " Probability of 00 is: 0.083\n",
      "\n",
      " Probability of 01 is: 0.462\n",
      "\n",
      " Probability of 10 is: 0.438\n",
      "\n",
      " Probability of 11 is: 0.017\n",
      "--------------------------------\n",
      "\n",
      "For 10 shots\n",
      "\n",
      "The cost of 10 measurement sampling is 0.862638\n",
      "\n",
      "The parameters are [ 0.95462675 -0.76010122]\n",
      "\n",
      "The cost of 10 measurement sampling is 0.031230000000000008\n",
      "\n",
      "The parameters are [ 1.55773775 -2.52426082]\n",
      "\n",
      "The cost of 10 measurement sampling is 0.014281999999999998\n",
      "\n",
      "The parameters are [ 1.59756515 -2.82593122]\n",
      "\n",
      "The cost of 10 measurement sampling is 0.011006\n",
      "\n",
      "The parameters are [ 1.58994875 -2.94772042]\n",
      "\n",
      "The cost of 10 measurement sampling is 0.010506\n",
      "\n",
      "The parameters are [ 1.58378675 -3.01764982]\n",
      "\n",
      "The cost of 10 measurement sampling is 0.008621999999999996\n",
      "\n",
      "The parameters are [ 1.58296655 -3.06504982]\n",
      "\n",
      "The cost of 10 measurement sampling is 0.011144000000000001\n",
      "\n",
      "The parameters are [ 1.55523215 -3.09509182]\n",
      "\n",
      "The cost of 10 measurement sampling is 0.008179999999999996\n",
      "\n",
      "The parameters are [ 1.58733155 -3.10880782]\n",
      "\n",
      "The cost of 10 measurement sampling is 0.013810000000000005\n",
      "\n",
      "The parameters are [ 1.55061035 -3.11370442]\n",
      "\n",
      "The cost of 10 measurement sampling is 0.00675\n",
      "\n",
      "The parameters are [ 1.56096395 -3.12377182]\n",
      "\n",
      "Final probability of states is as follows: \n",
      "\n",
      "\n",
      " Probability of 00 is: 0.078\n",
      "\n",
      " Probability of 01 is: 0.435\n",
      "\n",
      " Probability of 10 is: 0.474\n",
      "\n",
      " Probability of 11 is: 0.013\n",
      "--------------------------------\n",
      "\n",
      "For 100 shots\n",
      "\n",
      "The cost of 100 measurement sampling is 0.828034\n",
      "\n",
      "The parameters are [ 1.6763677  -0.06984428]\n",
      "\n",
      "The cost of 100 measurement sampling is 0.249122\n",
      "\n",
      "The parameters are [ 1.7389999  -1.56582908]\n",
      "\n",
      "The cost of 100 measurement sampling is 0.023190000000000002\n",
      "\n",
      "The parameters are [ 1.5959143  -2.62905788]\n",
      "\n",
      "The cost of 100 measurement sampling is 0.013753999999999999\n",
      "\n",
      "The parameters are [ 1.5733615  -2.85146288]\n",
      "\n",
      "The cost of 100 measurement sampling is 0.01039\n",
      "\n",
      "The parameters are [ 1.6207069  -2.96351168]\n",
      "\n",
      "The cost of 100 measurement sampling is 0.012522000000000002\n",
      "\n",
      "The parameters are [ 1.6147435  -3.02859788]\n",
      "\n",
      "The cost of 100 measurement sampling is 0.012053999999999999\n",
      "\n",
      "The parameters are [ 1.6070995  -3.07472108]\n",
      "\n",
      "The cost of 100 measurement sampling is 0.011911999999999999\n",
      "\n",
      "The parameters are [ 1.5546571  -3.09673508]\n",
      "\n",
      "The cost of 100 measurement sampling is 0.008977999999999996\n",
      "\n",
      "The parameters are [ 1.5694039  -3.11325488]\n",
      "\n",
      "The cost of 100 measurement sampling is 0.0065060000000000005\n",
      "\n",
      "The parameters are [ 1.6107403  -3.11785208]\n",
      "\n",
      "Final probability of states is as follows: \n",
      "\n",
      "\n",
      " Probability of 00 is: 0.069\n",
      "\n",
      " Probability of 01 is: 0.464\n",
      "\n",
      " Probability of 10 is: 0.455\n",
      "\n",
      " Probability of 11 is: 0.012\n",
      "--------------------------------\n",
      "\n",
      "For 1000 shots\n",
      "\n",
      "The cost of 1000 measurement sampling is 0.18321400000000002\n",
      "\n",
      "The parameters are [1.83059367 1.73870144]\n",
      "\n",
      "The cost of 1000 measurement sampling is 0.019034000000000002\n",
      "\n",
      "The parameters are [1.57923087 2.64849704]\n",
      "\n",
      "The cost of 1000 measurement sampling is 0.010765999999999998\n",
      "\n",
      "The parameters are [1.57031847 2.87562524]\n",
      "\n",
      "The cost of 1000 measurement sampling is 0.011157999999999998\n",
      "\n",
      "The parameters are [1.60825227 2.97823004]\n",
      "\n",
      "The cost of 1000 measurement sampling is 0.009361999999999995\n",
      "\n",
      "The parameters are [1.60116567 3.04224524]\n",
      "\n",
      "The cost of 1000 measurement sampling is 0.00755\n",
      "\n",
      "The parameters are [1.59514947 3.07319984]\n",
      "\n",
      "The cost of 1000 measurement sampling is 0.011391999999999998\n",
      "\n",
      "The parameters are [1.56948447 3.10205744]\n",
      "\n",
      "The cost of 1000 measurement sampling is 0.008125999999999998\n",
      "\n",
      "The parameters are [1.58018007 3.10906364]\n",
      "\n",
      "The cost of 1000 measurement sampling is 0.013195999999999998\n",
      "\n",
      "The parameters are [1.58186127 3.12232724]\n",
      "\n",
      "The cost of 1000 measurement sampling is 0.012456\n",
      "\n",
      "The parameters are [1.55304087 3.12863084]\n",
      "\n",
      "Final probability of states is as follows: \n",
      "\n",
      "\n",
      " Probability of 00 is: 0.073\n",
      "\n",
      " Probability of 01 is: 0.458\n",
      "\n",
      " Probability of 10 is: 0.456\n",
      "\n",
      " Probability of 11 is: 0.013\n"
     ]
    }
   ],
   "source": [
    "prob = []\n",
    "all_costs = []\n",
    "\n",
    "for num_shots in [1, 10, 100, 1000]:\n",
    "    dev.shots = num_shots\n",
    "    initial_params = np.random.randn(2) #initialize with random parameters\n",
    "    \n",
    "    steps = 100 # Number of steps of optimization\n",
    "    \n",
    "    params = initial_params.copy()\n",
    "    \n",
    "    optimizer = qml.GradientDescentOptimizer(stepsize=0.6) #Using PennyLane's Gradient Descent Optimizer\n",
    "    \n",
    "    costs = []\n",
    "    \n",
    "    print('--------------------------------\\n')\n",
    "    print('For {0} shots\\n'.format(num_shots))\n",
    "    for i in range(steps):\n",
    "        costs.append(cost(params))\n",
    "        params = optimizer.step(cost, params)\n",
    "        \n",
    "        if (i%10 == 0):\n",
    "            print('The cost of {0} measurement sampling is {1}\\n'.format(num_shots, cost(params)))\n",
    "            print('The parameters are {0}\\n'.format(params))\n",
    "    all_costs.append(costs)\n",
    "\n",
    "    p = [0, 0, 0, 0]\n",
    "    p[0], p[1], p[2], p[3] = bell_state(params)\n",
    "    print('Final probability of states is as follows: \\n')\n",
    "    print('\\n Probability of 00 is: {0}'.format(p[0]))\n",
    "    print('\\n Probability of 01 is: {0}'.format(p[1])) \n",
    "    print('\\n Probability of 10 is: {0}'.format(p[2]))\n",
    "    print('\\n Probability of 11 is: {0}'.format(p[3]))\n",
    "    prob.append(p)"
   ]
  },
  {
   "cell_type": "code",
   "execution_count": 11,
   "metadata": {},
   "outputs": [
    {
     "name": "stdout",
     "output_type": "stream",
     "text": [
      "Final parameters are [1.59187587 3.13249064] for first and second qubit for noisy simulations.\n"
     ]
    }
   ],
   "source": [
    "print('Final parameters are {0} for first and second qubit for noisy simulations.'.format(params))"
   ]
  },
  {
   "cell_type": "markdown",
   "metadata": {},
   "source": [
    "#### 8. Ploting the Probability Distribution"
   ]
  },
  {
   "cell_type": "code",
   "execution_count": 12,
   "metadata": {},
   "outputs": [
    {
     "data": {
      "text/plain": [
       "<BarContainer object of 4 artists>"
      ]
     },
     "execution_count": 12,
     "metadata": {},
     "output_type": "execute_result"
    },
    {
     "data": {
      "image/png": "[encoded data removed]",
      "text/plain": [
       "<Figure size 432x288 with 1 Axes>"
      ]
     },
     "metadata": {
      "needs_background": "light"
     },
     "output_type": "display_data"
    }
   ],
   "source": [
    "plt.bar(['00','01','10', '11'], prob[0]) #Probability Distribution for shots 1"
   ]
  },
  {
   "cell_type": "code",
   "execution_count": 13,
   "metadata": {},
   "outputs": [
    {
     "data": {
      "text/plain": [
       "<BarContainer object of 4 artists>"
      ]
     },
     "execution_count": 13,
     "metadata": {},
     "output_type": "execute_result"
    },
    {
     "data": {
      "image/png": "[encoded data removed]",
      "text/plain": [
       "<Figure size 432x288 with 1 Axes>"
      ]
     },
     "metadata": {
      "needs_background": "light"
     },
     "output_type": "display_data"
    }
   ],
   "source": [
    "plt.bar(['00','01','10', '11'], prob[1]) #Probability Distribution for shots 10"
   ]
  },
  {
   "cell_type": "code",
   "execution_count": 14,
   "metadata": {},
   "outputs": [
    {
     "data": {
      "text/plain": [
       "<BarContainer object of 4 artists>"
      ]
     },
     "execution_count": 14,
     "metadata": {},
     "output_type": "execute_result"
    },
    {
     "data": {
      "image/png": "[encoded data removed]",
      "text/plain": [
       "<Figure size 432x288 with 1 Axes>"
      ]
     },
     "metadata": {
      "needs_background": "light"
     },
     "output_type": "display_data"
    }
   ],
   "source": [
    "plt.bar(['00','01','10', '11'], prob[2])  #Probability Distribution for shots 100"
   ]
  },
  {
   "cell_type": "code",
   "execution_count": 15,
   "metadata": {},
   "outputs": [
    {
     "data": {
      "text/plain": [
       "<BarContainer object of 4 artists>"
      ]
     },
     "execution_count": 15,
     "metadata": {},
     "output_type": "execute_result"
    },
    {
     "data": {
      "image/png": "[encoded data removed]",
      "text/plain": [
       "<Figure size 432x288 with 1 Axes>"
      ]
     },
     "metadata": {
      "needs_background": "light"
     },
     "output_type": "display_data"
    }
   ],
   "source": [
    "plt.bar(['00','01','10', '11'], prob[3])   #Probability Distribution for shots 1000"
   ]
  },
  {
   "cell_type": "markdown",
   "metadata": {},
   "source": [
    "#### 9. Evaluating Cost"
   ]
  },
  {
   "cell_type": "code",
   "execution_count": 16,
   "metadata": {},
   "outputs": [
    {
     "data": {
      "image/png": "[encoded data removed]",
      "text/plain": [
       "<Figure size 432x288 with 1 Axes>"
      ]
     },
     "metadata": {
      "needs_background": "light"
     },
     "output_type": "display_data"
    }
   ],
   "source": [
    "plt.plot(all_costs[0], label =\"00\")\n",
    "plt.plot(all_costs[1], label =\"01\")\n",
    "plt.plot(all_costs[2], label =\"10\")\n",
    "plt.plot(all_costs[3], label =\"11\")\n",
    "plt.ylabel('Cost evolution')\n",
    "plt.legend()\n",
    "plt.show()"
   ]
  },
  {
   "cell_type": "markdown",
   "metadata": {},
   "source": [
    "## 10. Conclusion\n",
    "\n",
    "#### The cost reduces significantly with the increase in shots, and we also get a precise probability value.\n",
    "\n",
    "----------------------------------------------------------------------------------------------------------------------------"
   ]
  },
  {
   "cell_type": "markdown",
   "metadata": {},
   "source": [
    "## Bonus Question\n",
    "\n",
    "How do we prepare |01⟩+|10⟩ and not |01⟩−|10⟩?\n",
    "\n",
    "## Solution\n",
    "\n",
    "#### 1. First we define the same circuit but find the expectation value of X⊗X operator. The value |01⟩+|10⟩ is +1 and |01⟩−|10⟩ is -1"
   ]
  },
  {
   "cell_type": "code",
   "execution_count": 18,
   "metadata": {},
   "outputs": [
    {
     "data": {
      "text/plain": [
       "0.854"
      ]
     },
     "execution_count": 18,
     "metadata": {},
     "output_type": "execute_result"
    }
   ],
   "source": [
    "dev2 = qml.device('qiskit.aer', wires=2, noise_model=noise_model, shots = 1000, analytic=False)\n",
    "@qml.qnode(dev2)\n",
    "def circ_plus():\n",
    "    \n",
    "    qml.Hadamard(wires=0)\n",
    "\n",
    "    qml.PauliX(wires=1)\n",
    "    qml.CNOT(wires=[0, 1])\n",
    "    return qml.expval(qml.PauliX(0)@(qml.PauliX(1)))\n",
    "circ_plus()"
   ]
  },
  {
   "cell_type": "code",
   "execution_count": 19,
   "metadata": {},
   "outputs": [
    {
     "data": {
      "text/plain": [
       "-0.832"
      ]
     },
     "execution_count": 19,
     "metadata": {},
     "output_type": "execute_result"
    }
   ],
   "source": [
    "dev2 = qml.device('qiskit.aer', wires=2, noise_model=noise_model, shots = 1000, analytic=False)\n",
    "@qml.qnode(dev2)\n",
    "def circ_minus():\n",
    "    qml.PauliX(wires=0)\n",
    "    qml.Hadamard(wires=0)\n",
    "\n",
    "    qml.PauliX(wires=1)\n",
    "    qml.CNOT(wires=[0, 1])\n",
    "    return qml.expval(qml.PauliX(0)@(qml.PauliX(1)))\n",
    "circ_minus()"
   ]
  },
  {
   "cell_type": "markdown",
   "metadata": {},
   "source": [
    "#### 2. Initialize the circuit with parameter values 𝜋/2 and 𝜋 for RY"
   ]
  },
  {
   "cell_type": "code",
   "execution_count": 20,
   "metadata": {},
   "outputs": [],
   "source": [
    "dev3 = qml.device('qiskit.aer', wires=2, noise_model=noise_model, shots = 1000, analytic=False)\n",
    "@qml.qnode(dev3)\n",
    "def circ(param):\n",
    "    qml.RY(param[0], wires=0)\n",
    "    \n",
    "    qml.RY(param[0]*2, wires=1)\n",
    "    \n",
    "    qml.CNOT(wires=[0, 1])\n",
    "    \n",
    "    return qml.expval(qml.PauliX(0) @ qml.PauliX(1))"
   ]
  },
  {
   "cell_type": "markdown",
   "metadata": {},
   "source": [
    "#### 3. Create the cost function"
   ]
  },
  {
   "cell_type": "code",
   "execution_count": 21,
   "metadata": {},
   "outputs": [],
   "source": [
    "def cost(X):\n",
    "    val = circ(X)\n",
    "    return -1*val"
   ]
  },
  {
   "cell_type": "markdown",
   "metadata": {},
   "source": [
    "#### 4. Find the parameters by the Gradient Descent Optimizer and minimize the cost."
   ]
  },
  {
   "cell_type": "code",
   "execution_count": 23,
   "metadata": {},
   "outputs": [
    {
     "name": "stdout",
     "output_type": "stream",
     "text": [
      "\n",
      "The final parameters for 1000 measurement sampling is: [0.35340131]\n",
      "The expectation value is: 0.338\n"
     ]
    }
   ],
   "source": [
    "num_shots = 1000\n",
    "dev3.shots = num_shots\n",
    "initial_param = np.random.randn(1) #starting with random parameters\n",
    "    \n",
    "steps = 100 # Number of steps of optimization\n",
    "    \n",
    "param = initial_param.copy()\n",
    "    \n",
    "optimizer = qml.GradientDescentOptimizer(stepsize=0.6) #Using PennyLane's Gradient Descent Optimizer\n",
    "    \n",
    "costs = []\n",
    "    \n",
    "for i in range(steps):\n",
    "    costs.append(cost(param))\n",
    "    parameters = optimizer.step(cost, param)\n",
    "\n",
    "print('\\nThe final parameters for {0} measurement sampling is: {1}'.format(num_shots, param))\n",
    "val = circ(param)\n",
    "print('The expectation value is: {0}'.format(val))"
   ]
  },
  {
   "cell_type": "markdown",
   "metadata": {},
   "source": [
    "#### Thank yout the interesting task. \n",
    "#### With kind regards,\n",
    "#### Nisheeth Joshi"
   ]
  },
  {
   "cell_type": "code",
   "execution_count": null,
   "metadata": {},
   "outputs": [],
   "source": []
  }
 ],
 "metadata": {
  "kernelspec": {
   "display_name": "Python 3",
   "language": "python",
   "name": "python3"
  },
  "language_info": {
   "codemirror_mode": {
    "name": "ipython",
    "version": 3
   },
   "file_extension": ".py",
   "mimetype": "text/x-python",
   "name": "python",
   "nbconvert_exporter": "python",
   "pygments_lexer": "ipython3",
   "version": "3.8.2"
  }
 },
 "nbformat": 4,
 "nbformat_minor": 4
}
